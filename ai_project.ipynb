{
  "nbformat": 4,
  "nbformat_minor": 0,
  "metadata": {
    "colab": {
      "provenance": [],
      "authorship_tag": "ABX9TyOIQIyfZ48P4FPoOF1mC98m",
      "include_colab_link": true
    },
    "kernelspec": {
      "name": "python3",
      "display_name": "Python 3"
    },
    "language_info": {
      "name": "python"
    }
  },
  "cells": [
    {
      "cell_type": "markdown",
      "metadata": {
        "id": "view-in-github",
        "colab_type": "text"
      },
      "source": [
        "<a href=\"https://colab.research.google.com/github/melinashk/mohan_biscuit/blob/master/ai_project.ipynb\" target=\"_parent\"><img src=\"https://colab.research.google.com/assets/colab-badge.svg\" alt=\"Open In Colab\"/></a>"
      ]
    },
    {
      "cell_type": "code",
      "execution_count": 1,
      "metadata": {
        "colab": {
          "base_uri": "https://localhost:8080/"
        },
        "id": "ZC7vjWbpMuWm",
        "outputId": "7d469e9d-9063-46fc-ebbf-f4026166a4db"
      },
      "outputs": [
        {
          "output_type": "stream",
          "name": "stdout",
          "text": [
            "Looking in indexes: https://pypi.org/simple, https://us-python.pkg.dev/colab-wheels/public/simple/\n",
            "Requirement already satisfied: pandas in /usr/local/lib/python3.8/dist-packages (1.3.5)\n",
            "Requirement already satisfied: numpy>=1.17.3 in /usr/local/lib/python3.8/dist-packages (from pandas) (1.21.6)\n",
            "Requirement already satisfied: python-dateutil>=2.7.3 in /usr/local/lib/python3.8/dist-packages (from pandas) (2.8.2)\n",
            "Requirement already satisfied: pytz>=2017.3 in /usr/local/lib/python3.8/dist-packages (from pandas) (2022.6)\n",
            "Requirement already satisfied: six>=1.5 in /usr/local/lib/python3.8/dist-packages (from python-dateutil>=2.7.3->pandas) (1.15.0)\n"
          ]
        }
      ],
      "source": [
        "!pip install pandas\n"
      ]
    },
    {
      "cell_type": "code",
      "source": [
        "import pandas as pd"
      ],
      "metadata": {
        "id": "glOVWelnNYQt"
      },
      "execution_count": 2,
      "outputs": []
    },
    {
      "cell_type": "code",
      "source": [
        "path = \"/Total Data.csv\""
      ],
      "metadata": {
        "id": "fKABUo9eNeb4"
      },
      "execution_count": 3,
      "outputs": []
    },
    {
      "cell_type": "code",
      "source": [
        "df = pd.read_csv(path)"
      ],
      "metadata": {
        "id": "2h3ntkwCNlNh"
      },
      "execution_count": 4,
      "outputs": []
    },
    {
      "cell_type": "code",
      "source": [
        "print (df)"
      ],
      "metadata": {
        "colab": {
          "base_uri": "https://localhost:8080/"
        },
        "id": "H-fdsTMANp1i",
        "outputId": "2d45dc11-dcf4-4764-edf1-2177d86aeb0d"
      },
      "execution_count": 5,
      "outputs": [
        {
          "output_type": "stream",
          "name": "stdout",
          "text": [
            "    Age Sex                                        Description  \\\n",
            "0    72   M  pain in the lower left region of the mouth for...   \n",
            "1    35   M  decayed tooth in the right back region of uppe...   \n",
            "2     4   M  pain on the left lower back region of jaw for ...   \n",
            "3     4   M      pus draining from inferior front tooth region   \n",
            "4    68   M               missing teeth in upper and lower jaw   \n",
            "..  ...  ..                                                ...   \n",
            "95   64   M           swollen gums on the right region on jaws   \n",
            "96   42   M       fractured fragments in the upper left region   \n",
            "97    6   M                         mobile teeth on the front    \n",
            "98   19   M         pain on the gums on the lowers left region   \n",
            "99   24   F            swollen gums on the left region on gums   \n",
            "\n",
            "                                      Dental History Medical History  \\\n",
            "0                                               none            none   \n",
            "1   removal of left back teeth in uper and lower jaw            none   \n",
            "2                                               none            none   \n",
            "3                                               none             NRH   \n",
            "4                                               none            none   \n",
            "..                                               ...             ...   \n",
            "95              scaling , restoration and extraction            none   \n",
            "96                                        extraction            none   \n",
            "97                                              none            none   \n",
            "98                                           scaling            none   \n",
            "99                               scaling and surgery            none   \n",
            "\n",
            "                                  Past Medication  \n",
            "0                                            none  \n",
            "1   taking Losap.50 for hypertension for 12 years  \n",
            "2                                            none  \n",
            "3                                     antibiotics  \n",
            "4                                            none  \n",
            "..                                            ...  \n",
            "95                                           none  \n",
            "96                                           none  \n",
            "97                                           none  \n",
            "98                                           none  \n",
            "99                        antibiotics medications  \n",
            "\n",
            "[100 rows x 6 columns]\n"
          ]
        }
      ]
    },
    {
      "cell_type": "code",
      "source": [],
      "metadata": {
        "id": "r5r1nnD8Ntl3"
      },
      "execution_count": null,
      "outputs": []
    }
  ]
}